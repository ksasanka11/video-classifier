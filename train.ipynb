{
 "cells": [
  {
   "cell_type": "code",
   "execution_count": 1,
   "metadata": {},
   "outputs": [],
   "source": [
    "from sklearn.linear_model import LogisticRegression\n",
    "from sklearn.metrics import classification_report\n",
    "import pandas as pd"
   ]
  },
  {
   "cell_type": "code",
   "execution_count": 2,
   "metadata": {},
   "outputs": [
    {
     "name": "stdout",
     "output_type": "stream",
     "text": [
      "Data loaded......\n"
     ]
    }
   ],
   "source": [
    "\n",
    "\n",
    "labels = ['CS', 'Bio', 'ES']\n",
    "\n",
    "y_train = pd.read_csv('./data/y/train.csv')\n",
    "y_test = pd.read_csv('./data/y/test.csv')\n",
    "X_trainDF = pd.read_csv('./data/cv/train.csv')\n",
    "X_testDF = pd.read_csv('./data/cv/test.csv')\n",
    "X_trainTDF = pd.read_csv('./data/tfidf/train.csv')\n",
    "X_testTDF = pd.read_csv('./data/tfidf/test.csv')\n",
    "print('Data loaded......')"
   ]
  },
  {
   "cell_type": "code",
   "execution_count": 4,
   "metadata": {},
   "outputs": [
    {
     "name": "stderr",
     "output_type": "stream",
     "text": [
      "/home/sasanka/.local/share/virtualenvs/video-classifier-WkaNPaKu/lib/python3.10/site-packages/sklearn/utils/validation.py:1111: DataConversionWarning: A column-vector y was passed when a 1d array was expected. Please change the shape of y to (n_samples, ), for example using ravel().\n",
      "  y = column_or_1d(y, warn=True)\n"
     ]
    },
    {
     "name": "stdout",
     "output_type": "stream",
     "text": [
      "================================================================\n",
      "LogisticRegression (CV)\n",
      "              precision    recall  f1-score   support\n",
      "\n",
      "          CS       0.91      0.88      0.89        33\n",
      "         Bio       0.81      0.91      0.86        33\n",
      "          ES       0.97      0.88      0.92        33\n",
      "\n",
      "    accuracy                           0.89        99\n",
      "   macro avg       0.89      0.89      0.89        99\n",
      "weighted avg       0.89      0.89      0.89        99\n",
      "\n",
      "================================================================\n"
     ]
    },
    {
     "name": "stderr",
     "output_type": "stream",
     "text": [
      "/home/sasanka/.local/share/virtualenvs/video-classifier-WkaNPaKu/lib/python3.10/site-packages/sklearn/utils/validation.py:1111: DataConversionWarning: A column-vector y was passed when a 1d array was expected. Please change the shape of y to (n_samples, ), for example using ravel().\n",
      "  y = column_or_1d(y, warn=True)\n"
     ]
    },
    {
     "name": "stdout",
     "output_type": "stream",
     "text": [
      "================================================================\n",
      "LogisticRegression (Tf-idf)\n",
      "              precision    recall  f1-score   support\n",
      "\n",
      "          CS       0.91      0.88      0.89        33\n",
      "         Bio       0.81      0.91      0.86        33\n",
      "          ES       0.97      0.88      0.92        33\n",
      "\n",
      "    accuracy                           0.89        99\n",
      "   macro avg       0.89      0.89      0.89        99\n",
      "weighted avg       0.89      0.89      0.89        99\n",
      "\n",
      "================================================================\n"
     ]
    }
   ],
   "source": [
    "\n",
    "Log_Reg = LogisticRegression(max_iter=1000)\n",
    "Log_Reg.fit(X_trainDF, y_train)\n",
    "lr_cv_pred = Log_Reg.predict(X_testDF)\n",
    "print('================================================================')\n",
    "print('LogisticRegression (CV)')\n",
    "print(classification_report(y_test,lr_cv_pred, target_names=labels))\n",
    "print('================================================================')\n",
    "\n",
    "\n",
    "Log_Reg_tv = LogisticRegression()\n",
    "Log_Reg_tv.fit(X_trainTDF, y_train)\n",
    "lr_tf_pred = Log_Reg_tv.predict(X_testTDF)\n",
    "print('================================================================')\n",
    "print('LogisticRegression (Tf-idf)')\n",
    "print(classification_report(y_test,lr_cv_pred, target_names=labels))\n",
    "print('================================================================')"
   ]
  }
 ],
 "metadata": {
  "kernelspec": {
   "display_name": "Python 3.10.6 ('video-classifier-WkaNPaKu')",
   "language": "python",
   "name": "python3"
  },
  "language_info": {
   "codemirror_mode": {
    "name": "ipython",
    "version": 3
   },
   "file_extension": ".py",
   "mimetype": "text/x-python",
   "name": "python",
   "nbconvert_exporter": "python",
   "pygments_lexer": "ipython3",
   "version": "3.10.6"
  },
  "orig_nbformat": 4,
  "vscode": {
   "interpreter": {
    "hash": "961428f0e3ee2e84e022bdf0a5ebc6fa50c6f36b2ee82581c10bc88679c8ff99"
   }
  }
 },
 "nbformat": 4,
 "nbformat_minor": 2
}
