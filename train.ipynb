{
 "cells": [
  {
   "cell_type": "code",
   "execution_count": 8,
   "metadata": {},
   "outputs": [],
   "source": [
    "from sklearn.linear_model import LogisticRegression\n",
    "from sklearn.metrics import classification_report\n",
    "import pandas as pd\n",
    "from sklearn.naive_bayes import MultinomialNB\n",
    "from sklearn.ensemble import RandomForestClassifier\n"
   ]
  },
  {
   "cell_type": "code",
   "execution_count": 2,
   "metadata": {},
   "outputs": [
    {
     "name": "stdout",
     "output_type": "stream",
     "text": [
      "Data loaded......\n"
     ]
    }
   ],
   "source": [
    "\n",
    "\n",
    "labels = ['CS', 'Bio', 'ES']\n",
    "\n",
    "y_train = pd.read_csv('./data/y/train.csv')\n",
    "y_test = pd.read_csv('./data/y/test.csv')\n",
    "X_trainDF = pd.read_csv('./data/cv/train.csv')\n",
    "X_testDF = pd.read_csv('./data/cv/test.csv')\n",
    "X_trainTDF = pd.read_csv('./data/tfidf/train.csv')\n",
    "X_testTDF = pd.read_csv('./data/tfidf/test.csv')\n",
    "print('Data loaded......')"
   ]
  },
  {
   "cell_type": "code",
   "execution_count": 5,
   "metadata": {},
   "outputs": [
    {
     "name": "stderr",
     "output_type": "stream",
     "text": [
      "/home/sasanka/.local/share/virtualenvs/video-classifier-WkaNPaKu/lib/python3.10/site-packages/sklearn/utils/validation.py:1111: DataConversionWarning: A column-vector y was passed when a 1d array was expected. Please change the shape of y to (n_samples, ), for example using ravel().\n",
      "  y = column_or_1d(y, warn=True)\n"
     ]
    },
    {
     "name": "stdout",
     "output_type": "stream",
     "text": [
      "================================================================\n",
      "LogisticRegression (CV)\n",
      "              precision    recall  f1-score   support\n",
      "\n",
      "          CS       0.91      0.88      0.89        33\n",
      "         Bio       0.81      0.91      0.86        33\n",
      "          ES       0.97      0.88      0.92        33\n",
      "\n",
      "    accuracy                           0.89        99\n",
      "   macro avg       0.89      0.89      0.89        99\n",
      "weighted avg       0.89      0.89      0.89        99\n",
      "\n",
      "================================================================\n"
     ]
    },
    {
     "name": "stderr",
     "output_type": "stream",
     "text": [
      "/home/sasanka/.local/share/virtualenvs/video-classifier-WkaNPaKu/lib/python3.10/site-packages/sklearn/utils/validation.py:1111: DataConversionWarning: A column-vector y was passed when a 1d array was expected. Please change the shape of y to (n_samples, ), for example using ravel().\n",
      "  y = column_or_1d(y, warn=True)\n"
     ]
    },
    {
     "name": "stdout",
     "output_type": "stream",
     "text": [
      "================================================================\n",
      "LogisticRegression (Tf-idf)\n",
      "              precision    recall  f1-score   support\n",
      "\n",
      "          CS       0.89      0.97      0.93        33\n",
      "         Bio       0.87      0.79      0.83        33\n",
      "          ES       0.88      0.88      0.88        33\n",
      "\n",
      "    accuracy                           0.88        99\n",
      "   macro avg       0.88      0.88      0.88        99\n",
      "weighted avg       0.88      0.88      0.88        99\n",
      "\n",
      "================================================================\n"
     ]
    }
   ],
   "source": [
    "\n",
    "Log_Reg = LogisticRegression(max_iter=1000)\n",
    "Log_Reg.fit(X_trainDF, y_train)\n",
    "lr_cv_pred = Log_Reg.predict(X_testDF)\n",
    "print('================================================================')\n",
    "print('LogisticRegression (CV)')\n",
    "print(classification_report(y_test,lr_cv_pred, target_names=labels))\n",
    "print('================================================================')\n",
    "\n",
    "\n",
    "Log_Reg_tv = LogisticRegression()\n",
    "Log_Reg_tv.fit(X_trainTDF, y_train)\n",
    "lr_tf_pred = Log_Reg_tv.predict(X_testTDF)\n",
    "print('================================================================')\n",
    "print('LogisticRegression (Tf-idf)')\n",
    "print(classification_report(y_test,lr_tf_pred, target_names=labels))\n",
    "print('================================================================')"
   ]
  },
  {
   "cell_type": "code",
   "execution_count": 7,
   "metadata": {},
   "outputs": [
    {
     "name": "stderr",
     "output_type": "stream",
     "text": [
      "/home/sasanka/.local/share/virtualenvs/video-classifier-WkaNPaKu/lib/python3.10/site-packages/sklearn/utils/validation.py:1111: DataConversionWarning: A column-vector y was passed when a 1d array was expected. Please change the shape of y to (n_samples, ), for example using ravel().\n",
      "  y = column_or_1d(y, warn=True)\n"
     ]
    },
    {
     "name": "stdout",
     "output_type": "stream",
     "text": [
      "================================================================\n",
      "MultinomialNB (CV)\n",
      "              precision    recall  f1-score   support\n",
      "\n",
      "          CS       0.89      0.94      0.91        33\n",
      "         Bio       0.91      0.64      0.75        33\n",
      "          ES       0.76      0.94      0.84        33\n",
      "\n",
      "    accuracy                           0.84        99\n",
      "   macro avg       0.85      0.84      0.83        99\n",
      "weighted avg       0.85      0.84      0.83        99\n",
      "\n",
      "================================================================\n"
     ]
    },
    {
     "name": "stderr",
     "output_type": "stream",
     "text": [
      "/home/sasanka/.local/share/virtualenvs/video-classifier-WkaNPaKu/lib/python3.10/site-packages/sklearn/utils/validation.py:1111: DataConversionWarning: A column-vector y was passed when a 1d array was expected. Please change the shape of y to (n_samples, ), for example using ravel().\n",
      "  y = column_or_1d(y, warn=True)\n"
     ]
    },
    {
     "name": "stdout",
     "output_type": "stream",
     "text": [
      "================================================================\n",
      "MultinomialNB (Tf-idf)\n",
      "              precision    recall  f1-score   support\n",
      "\n",
      "          CS       0.76      0.97      0.85        33\n",
      "         Bio       0.91      0.61      0.73        33\n",
      "          ES       0.80      0.85      0.82        33\n",
      "\n",
      "    accuracy                           0.81        99\n",
      "   macro avg       0.82      0.81      0.80        99\n",
      "weighted avg       0.82      0.81      0.80        99\n",
      "\n",
      "================================================================\n"
     ]
    }
   ],
   "source": [
    "\n",
    "nb_cv = MultinomialNB()\n",
    "nb_cv.fit(X_trainDF, y_train)\n",
    "nb_cv_pred = nb_cv.predict(X_testDF)\n",
    "print('================================================================')\n",
    "print('MultinomialNB (CV)')\n",
    "print(classification_report(y_test,nb_cv_pred, target_names=labels))\n",
    "print('================================================================')\n",
    "\n",
    "\n",
    "nb_tfidf = MultinomialNB()\n",
    "nb_tfidf.fit(X_trainTDF, y_train)\n",
    "nb_tf_pred = nb_tfidf.predict(X_testTDF)\n",
    "print('================================================================')\n",
    "print('MultinomialNB (Tf-idf)')\n",
    "print(classification_report(y_test,nb_tf_pred, target_names=labels))\n",
    "print('================================================================')"
   ]
  },
  {
   "cell_type": "code",
   "execution_count": 9,
   "metadata": {},
   "outputs": [
    {
     "name": "stderr",
     "output_type": "stream",
     "text": [
      "/tmp/ipykernel_40887/1784352462.py:2: DataConversionWarning: A column-vector y was passed when a 1d array was expected. Please change the shape of y to (n_samples,), for example using ravel().\n",
      "  rf_cv.fit(X_trainDF, y_train)\n"
     ]
    },
    {
     "name": "stdout",
     "output_type": "stream",
     "text": [
      "================================================================\n",
      "RandomForest (CV)\n",
      "              precision    recall  f1-score   support\n",
      "\n",
      "          CS       0.91      0.97      0.94        33\n",
      "         Bio       0.85      0.88      0.87        33\n",
      "          ES       0.97      0.88      0.92        33\n",
      "\n",
      "    accuracy                           0.91        99\n",
      "   macro avg       0.91      0.91      0.91        99\n",
      "weighted avg       0.91      0.91      0.91        99\n",
      "\n",
      "================================================================\n"
     ]
    },
    {
     "name": "stderr",
     "output_type": "stream",
     "text": [
      "/tmp/ipykernel_40887/1784352462.py:11: DataConversionWarning: A column-vector y was passed when a 1d array was expected. Please change the shape of y to (n_samples,), for example using ravel().\n",
      "  rf_tfidf.fit(X_trainTDF, y_train)\n"
     ]
    },
    {
     "name": "stdout",
     "output_type": "stream",
     "text": [
      "================================================================\n",
      "RandomForest (Tf-idf)\n",
      "              precision    recall  f1-score   support\n",
      "\n",
      "          CS       0.91      0.94      0.93        33\n",
      "         Bio       0.86      0.73      0.79        33\n",
      "          ES       0.81      0.91      0.86        33\n",
      "\n",
      "    accuracy                           0.86        99\n",
      "   macro avg       0.86      0.86      0.86        99\n",
      "weighted avg       0.86      0.86      0.86        99\n",
      "\n",
      "================================================================\n"
     ]
    }
   ],
   "source": [
    "rf_cv = RandomForestClassifier(random_state=40,n_estimators=1024)\n",
    "rf_cv.fit(X_trainDF, y_train)\n",
    "rf_cv_pred = rf_cv.predict(X_testDF)\n",
    "print('================================================================')\n",
    "print('RandomForest (CV)')\n",
    "print(classification_report(y_test,rf_cv_pred, target_names=labels))\n",
    "print('================================================================')\n",
    "\n",
    "\n",
    "rf_tfidf = RandomForestClassifier(random_state=40,n_estimators=1024)\n",
    "rf_tfidf.fit(X_trainTDF, y_train)\n",
    "rf_tf_pred = rf_tfidf.predict(X_testTDF)\n",
    "print('================================================================')\n",
    "print('RandomForest (Tf-idf)')\n",
    "print(classification_report(y_test,rf_tf_pred, target_names=labels))\n",
    "print('================================================================')"
   ]
  }
 ],
 "metadata": {
  "kernelspec": {
   "display_name": "Python 3.10.6 ('video-classifier-WkaNPaKu')",
   "language": "python",
   "name": "python3"
  },
  "language_info": {
   "codemirror_mode": {
    "name": "ipython",
    "version": 3
   },
   "file_extension": ".py",
   "mimetype": "text/x-python",
   "name": "python",
   "nbconvert_exporter": "python",
   "pygments_lexer": "ipython3",
   "version": "3.10.6"
  },
  "orig_nbformat": 4,
  "vscode": {
   "interpreter": {
    "hash": "961428f0e3ee2e84e022bdf0a5ebc6fa50c6f36b2ee82581c10bc88679c8ff99"
   }
  }
 },
 "nbformat": 4,
 "nbformat_minor": 2
}
